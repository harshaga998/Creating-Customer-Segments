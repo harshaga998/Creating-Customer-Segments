{
  "nbformat": 4,
  "nbformat_minor": 0,
  "metadata": {
    "colab": {
      "name": "Recommendation Engine",
      "version": "0.3.2",
      "provenance": [],
      "include_colab_link": true
    },
    "kernelspec": {
      "name": "python3",
      "display_name": "Python 3"
    }
  },
  "cells": [
    {
      "cell_type": "markdown",
      "metadata": {
        "id": "view-in-github",
        "colab_type": "text"
      },
      "source": [
        "<a href=\"https://colab.research.google.com/github/harshaga998/Creating-Customer-Segments/blob/master/Recommendation_Engine.ipynb\" target=\"_parent\"><img src=\"https://colab.research.google.com/assets/colab-badge.svg\" alt=\"Open In Colab\"/></a>"
      ]
    },
    {
      "metadata": {
        "id": "Zet60RKxFkuO",
        "colab_type": "code",
        "outputId": "f3d58f27-75dd-4afb-9f3b-be58a6972c6a",
        "colab": {
          "resources": {
            "http://localhost:8080/nbextensions/google.colab/files.js": {
              "data": "Ly8gQ29weXJpZ2h0IDIwMTcgR29vZ2xlIExMQwovLwovLyBMaWNlbnNlZCB1bmRlciB0aGUgQXBhY2hlIExpY2Vuc2UsIFZlcnNpb24gMi4wICh0aGUgIkxpY2Vuc2UiKTsKLy8geW91IG1heSBub3QgdXNlIHRoaXMgZmlsZSBleGNlcHQgaW4gY29tcGxpYW5jZSB3aXRoIHRoZSBMaWNlbnNlLgovLyBZb3UgbWF5IG9idGFpbiBhIGNvcHkgb2YgdGhlIExpY2Vuc2UgYXQKLy8KLy8gICAgICBodHRwOi8vd3d3LmFwYWNoZS5vcmcvbGljZW5zZXMvTElDRU5TRS0yLjAKLy8KLy8gVW5sZXNzIHJlcXVpcmVkIGJ5IGFwcGxpY2FibGUgbGF3IG9yIGFncmVlZCB0byBpbiB3cml0aW5nLCBzb2Z0d2FyZQovLyBkaXN0cmlidXRlZCB1bmRlciB0aGUgTGljZW5zZSBpcyBkaXN0cmlidXRlZCBvbiBhbiAiQVMgSVMiIEJBU0lTLAovLyBXSVRIT1VUIFdBUlJBTlRJRVMgT1IgQ09ORElUSU9OUyBPRiBBTlkgS0lORCwgZWl0aGVyIGV4cHJlc3Mgb3IgaW1wbGllZC4KLy8gU2VlIHRoZSBMaWNlbnNlIGZvciB0aGUgc3BlY2lmaWMgbGFuZ3VhZ2UgZ292ZXJuaW5nIHBlcm1pc3Npb25zIGFuZAovLyBsaW1pdGF0aW9ucyB1bmRlciB0aGUgTGljZW5zZS4KCi8qKgogKiBAZmlsZW92ZXJ2aWV3IEhlbHBlcnMgZm9yIGdvb2dsZS5jb2xhYiBQeXRob24gbW9kdWxlLgogKi8KKGZ1bmN0aW9uKHNjb3BlKSB7CmZ1bmN0aW9uIHNwYW4odGV4dCwgc3R5bGVBdHRyaWJ1dGVzID0ge30pIHsKICBjb25zdCBlbGVtZW50ID0gZG9jdW1lbnQuY3JlYXRlRWxlbWVudCgnc3BhbicpOwogIGVsZW1lbnQudGV4dENvbnRlbnQgPSB0ZXh0OwogIGZvciAoY29uc3Qga2V5IG9mIE9iamVjdC5rZXlzKHN0eWxlQXR0cmlidXRlcykpIHsKICAgIGVsZW1lbnQuc3R5bGVba2V5XSA9IHN0eWxlQXR0cmlidXRlc1trZXldOwogIH0KICByZXR1cm4gZWxlbWVudDsKfQoKLy8gTWF4IG51bWJlciBvZiBieXRlcyB3aGljaCB3aWxsIGJlIHVwbG9hZGVkIGF0IGEgdGltZS4KY29uc3QgTUFYX1BBWUxPQURfU0laRSA9IDEwMCAqIDEwMjQ7Ci8vIE1heCBhbW91bnQgb2YgdGltZSB0byBibG9jayB3YWl0aW5nIGZvciB0aGUgdXNlci4KY29uc3QgRklMRV9DSEFOR0VfVElNRU9VVF9NUyA9IDMwICogMTAwMDsKCmZ1bmN0aW9uIF91cGxvYWRGaWxlcyhpbnB1dElkLCBvdXRwdXRJZCkgewogIGNvbnN0IHN0ZXBzID0gdXBsb2FkRmlsZXNTdGVwKGlucHV0SWQsIG91dHB1dElkKTsKICBjb25zdCBvdXRwdXRFbGVtZW50ID0gZG9jdW1lbnQuZ2V0RWxlbWVudEJ5SWQob3V0cHV0SWQpOwogIC8vIENhY2hlIHN0ZXBzIG9uIHRoZSBvdXRwdXRFbGVtZW50IHRvIG1ha2UgaXQgYXZhaWxhYmxlIGZvciB0aGUgbmV4dCBjYWxsCiAgLy8gdG8gdXBsb2FkRmlsZXNDb250aW51ZSBmcm9tIFB5dGhvbi4KICBvdXRwdXRFbGVtZW50LnN0ZXBzID0gc3RlcHM7CgogIHJldHVybiBfdXBsb2FkRmlsZXNDb250aW51ZShvdXRwdXRJZCk7Cn0KCi8vIFRoaXMgaXMgcm91Z2hseSBhbiBhc3luYyBnZW5lcmF0b3IgKG5vdCBzdXBwb3J0ZWQgaW4gdGhlIGJyb3dzZXIgeWV0KSwKLy8gd2hlcmUgdGhlcmUgYXJlIG11bHRpcGxlIGFzeW5jaHJvbm91cyBzdGVwcyBhbmQgdGhlIFB5dGhvbiBzaWRlIGlzIGdvaW5nCi8vIHRvIHBvbGwgZm9yIGNvbXBsZXRpb24gb2YgZWFjaCBzdGVwLgovLyBUaGlzIHVzZXMgYSBQcm9taXNlIHRvIGJsb2NrIHRoZSBweXRob24gc2lkZSBvbiBjb21wbGV0aW9uIG9mIGVhY2ggc3RlcCwKLy8gdGhlbiBwYXNzZXMgdGhlIHJlc3VsdCBvZiB0aGUgcHJldmlvdXMgc3RlcCBhcyB0aGUgaW5wdXQgdG8gdGhlIG5leHQgc3RlcC4KZnVuY3Rpb24gX3VwbG9hZEZpbGVzQ29udGludWUob3V0cHV0SWQpIHsKICBjb25zdCBvdXRwdXRFbGVtZW50ID0gZG9jdW1lbnQuZ2V0RWxlbWVudEJ5SWQob3V0cHV0SWQpOwogIGNvbnN0IHN0ZXBzID0gb3V0cHV0RWxlbWVudC5zdGVwczsKCiAgY29uc3QgbmV4dCA9IHN0ZXBzLm5leHQob3V0cHV0RWxlbWVudC5sYXN0UHJvbWlzZVZhbHVlKTsKICByZXR1cm4gUHJvbWlzZS5yZXNvbHZlKG5leHQudmFsdWUucHJvbWlzZSkudGhlbigodmFsdWUpID0+IHsKICAgIC8vIENhY2hlIHRoZSBsYXN0IHByb21pc2UgdmFsdWUgdG8gbWFrZSBpdCBhdmFpbGFibGUgdG8gdGhlIG5leHQKICAgIC8vIHN0ZXAgb2YgdGhlIGdlbmVyYXRvci4KICAgIG91dHB1dEVsZW1lbnQubGFzdFByb21pc2VWYWx1ZSA9IHZhbHVlOwogICAgcmV0dXJuIG5leHQudmFsdWUucmVzcG9uc2U7CiAgfSk7Cn0KCi8qKgogKiBHZW5lcmF0b3IgZnVuY3Rpb24gd2hpY2ggaXMgY2FsbGVkIGJldHdlZW4gZWFjaCBhc3luYyBzdGVwIG9mIHRoZSB1cGxvYWQKICogcHJvY2Vzcy4KICogQHBhcmFtIHtzdHJpbmd9IGlucHV0SWQgRWxlbWVudCBJRCBvZiB0aGUgaW5wdXQgZmlsZSBwaWNrZXIgZWxlbWVudC4KICogQHBhcmFtIHtzdHJpbmd9IG91dHB1dElkIEVsZW1lbnQgSUQgb2YgdGhlIG91dHB1dCBkaXNwbGF5LgogKiBAcmV0dXJuIHshSXRlcmFibGU8IU9iamVjdD59IEl0ZXJhYmxlIG9mIG5leHQgc3RlcHMuCiAqLwpmdW5jdGlvbiogdXBsb2FkRmlsZXNTdGVwKGlucHV0SWQsIG91dHB1dElkKSB7CiAgY29uc3QgaW5wdXRFbGVtZW50ID0gZG9jdW1lbnQuZ2V0RWxlbWVudEJ5SWQoaW5wdXRJZCk7CiAgaW5wdXRFbGVtZW50LmRpc2FibGVkID0gZmFsc2U7CgogIGNvbnN0IG91dHB1dEVsZW1lbnQgPSBkb2N1bWVudC5nZXRFbGVtZW50QnlJZChvdXRwdXRJZCk7CiAgb3V0cHV0RWxlbWVudC5pbm5lckhUTUwgPSAnJzsKCiAgY29uc3QgcGlja2VkUHJvbWlzZSA9IG5ldyBQcm9taXNlKChyZXNvbHZlKSA9PiB7CiAgICBpbnB1dEVsZW1lbnQuYWRkRXZlbnRMaXN0ZW5lcignY2hhbmdlJywgKGUpID0+IHsKICAgICAgcmVzb2x2ZShlLnRhcmdldC5maWxlcyk7CiAgICB9KTsKICB9KTsKCiAgY29uc3QgY2FuY2VsID0gZG9jdW1lbnQuY3JlYXRlRWxlbWVudCgnYnV0dG9uJyk7CiAgaW5wdXRFbGVtZW50LnBhcmVudEVsZW1lbnQuYXBwZW5kQ2hpbGQoY2FuY2VsKTsKICBjYW5jZWwudGV4dENvbnRlbnQgPSAnQ2FuY2VsIHVwbG9hZCc7CiAgY29uc3QgY2FuY2VsUHJvbWlzZSA9IG5ldyBQcm9taXNlKChyZXNvbHZlKSA9PiB7CiAgICBjYW5jZWwub25jbGljayA9ICgpID0+IHsKICAgICAgcmVzb2x2ZShudWxsKTsKICAgIH07CiAgfSk7CgogIC8vIENhbmNlbCB1cGxvYWQgaWYgdXNlciBoYXNuJ3QgcGlja2VkIGFueXRoaW5nIGluIHRpbWVvdXQuCiAgY29uc3QgdGltZW91dFByb21pc2UgPSBuZXcgUHJvbWlzZSgocmVzb2x2ZSkgPT4gewogICAgc2V0VGltZW91dCgoKSA9PiB7CiAgICAgIHJlc29sdmUobnVsbCk7CiAgICB9LCBGSUxFX0NIQU5HRV9USU1FT1VUX01TKTsKICB9KTsKCiAgLy8gV2FpdCBmb3IgdGhlIHVzZXIgdG8gcGljayB0aGUgZmlsZXMuCiAgY29uc3QgZmlsZXMgPSB5aWVsZCB7CiAgICBwcm9taXNlOiBQcm9taXNlLnJhY2UoW3BpY2tlZFByb21pc2UsIHRpbWVvdXRQcm9taXNlLCBjYW5jZWxQcm9taXNlXSksCiAgICByZXNwb25zZTogewogICAgICBhY3Rpb246ICdzdGFydGluZycsCiAgICB9CiAgfTsKCiAgaWYgKCFmaWxlcykgewogICAgcmV0dXJuIHsKICAgICAgcmVzcG9uc2U6IHsKICAgICAgICBhY3Rpb246ICdjb21wbGV0ZScsCiAgICAgIH0KICAgIH07CiAgfQoKICBjYW5jZWwucmVtb3ZlKCk7CgogIC8vIERpc2FibGUgdGhlIGlucHV0IGVsZW1lbnQgc2luY2UgZnVydGhlciBwaWNrcyBhcmUgbm90IGFsbG93ZWQuCiAgaW5wdXRFbGVtZW50LmRpc2FibGVkID0gdHJ1ZTsKCiAgZm9yIChjb25zdCBmaWxlIG9mIGZpbGVzKSB7CiAgICBjb25zdCBsaSA9IGRvY3VtZW50LmNyZWF0ZUVsZW1lbnQoJ2xpJyk7CiAgICBsaS5hcHBlbmQoc3BhbihmaWxlLm5hbWUsIHtmb250V2VpZ2h0OiAnYm9sZCd9KSk7CiAgICBsaS5hcHBlbmQoc3BhbigKICAgICAgICBgKCR7ZmlsZS50eXBlIHx8ICduL2EnfSkgLSAke2ZpbGUuc2l6ZX0gYnl0ZXMsIGAgKwogICAgICAgIGBsYXN0IG1vZGlmaWVkOiAkewogICAgICAgICAgICBmaWxlLmxhc3RNb2RpZmllZERhdGUgPyBmaWxlLmxhc3RNb2RpZmllZERhdGUudG9Mb2NhbGVEYXRlU3RyaW5nKCkgOgogICAgICAgICAgICAgICAgICAgICAgICAgICAgICAgICAgICAnbi9hJ30gLSBgKSk7CiAgICBjb25zdCBwZXJjZW50ID0gc3BhbignMCUgZG9uZScpOwogICAgbGkuYXBwZW5kQ2hpbGQocGVyY2VudCk7CgogICAgb3V0cHV0RWxlbWVudC5hcHBlbmRDaGlsZChsaSk7CgogICAgY29uc3QgZmlsZURhdGFQcm9taXNlID0gbmV3IFByb21pc2UoKHJlc29sdmUpID0+IHsKICAgICAgY29uc3QgcmVhZGVyID0gbmV3IEZpbGVSZWFkZXIoKTsKICAgICAgcmVhZGVyLm9ubG9hZCA9IChlKSA9PiB7CiAgICAgICAgcmVzb2x2ZShlLnRhcmdldC5yZXN1bHQpOwogICAgICB9OwogICAgICByZWFkZXIucmVhZEFzQXJyYXlCdWZmZXIoZmlsZSk7CiAgICB9KTsKICAgIC8vIFdhaXQgZm9yIHRoZSBkYXRhIHRvIGJlIHJlYWR5LgogICAgbGV0IGZpbGVEYXRhID0geWllbGQgewogICAgICBwcm9taXNlOiBmaWxlRGF0YVByb21pc2UsCiAgICAgIHJlc3BvbnNlOiB7CiAgICAgICAgYWN0aW9uOiAnY29udGludWUnLAogICAgICB9CiAgICB9OwoKICAgIC8vIFVzZSBhIGNodW5rZWQgc2VuZGluZyB0byBhdm9pZCBtZXNzYWdlIHNpemUgbGltaXRzLiBTZWUgYi82MjExNTY2MC4KICAgIGxldCBwb3NpdGlvbiA9IDA7CiAgICB3aGlsZSAocG9zaXRpb24gPCBmaWxlRGF0YS5ieXRlTGVuZ3RoKSB7CiAgICAgIGNvbnN0IGxlbmd0aCA9IE1hdGgubWluKGZpbGVEYXRhLmJ5dGVMZW5ndGggLSBwb3NpdGlvbiwgTUFYX1BBWUxPQURfU0laRSk7CiAgICAgIGNvbnN0IGNodW5rID0gbmV3IFVpbnQ4QXJyYXkoZmlsZURhdGEsIHBvc2l0aW9uLCBsZW5ndGgpOwogICAgICBwb3NpdGlvbiArPSBsZW5ndGg7CgogICAgICBjb25zdCBiYXNlNjQgPSBidG9hKFN0cmluZy5mcm9tQ2hhckNvZGUuYXBwbHkobnVsbCwgY2h1bmspKTsKICAgICAgeWllbGQgewogICAgICAgIHJlc3BvbnNlOiB7CiAgICAgICAgICBhY3Rpb246ICdhcHBlbmQnLAogICAgICAgICAgZmlsZTogZmlsZS5uYW1lLAogICAgICAgICAgZGF0YTogYmFzZTY0LAogICAgICAgIH0sCiAgICAgIH07CiAgICAgIHBlcmNlbnQudGV4dENvbnRlbnQgPQogICAgICAgICAgYCR7TWF0aC5yb3VuZCgocG9zaXRpb24gLyBmaWxlRGF0YS5ieXRlTGVuZ3RoKSAqIDEwMCl9JSBkb25lYDsKICAgIH0KICB9CgogIC8vIEFsbCBkb25lLgogIHlpZWxkIHsKICAgIHJlc3BvbnNlOiB7CiAgICAgIGFjdGlvbjogJ2NvbXBsZXRlJywKICAgIH0KICB9Owp9CgpzY29wZS5nb29nbGUgPSBzY29wZS5nb29nbGUgfHwge307CnNjb3BlLmdvb2dsZS5jb2xhYiA9IHNjb3BlLmdvb2dsZS5jb2xhYiB8fCB7fTsKc2NvcGUuZ29vZ2xlLmNvbGFiLl9maWxlcyA9IHsKICBfdXBsb2FkRmlsZXMsCiAgX3VwbG9hZEZpbGVzQ29udGludWUsCn07Cn0pKHNlbGYpOwo=",
              "ok": true,
              "headers": [
                [
                  "content-type",
                  "application/javascript"
                ]
              ],
              "status": 200,
              "status_text": ""
            }
          },
          "base_uri": "https://localhost:8080/",
          "height": 91
        }
      },
      "cell_type": "code",
      "source": [
        "from google.colab import files\n",
        "files.upload()"
      ],
      "execution_count": 0,
      "outputs": [
        {
          "output_type": "display_data",
          "data": {
            "text/html": [
              "\n",
              "     <input type=\"file\" id=\"files-fdf2be0e-da28-4208-80c4-9065bb65ca08\" name=\"files[]\" multiple disabled />\n",
              "     <output id=\"result-fdf2be0e-da28-4208-80c4-9065bb65ca08\">\n",
              "      Upload widget is only available when the cell has been executed in the\n",
              "      current browser session. Please rerun this cell to enable.\n",
              "      </output>\n",
              "      <script src=\"/nbextensions/google.colab/files.js\"></script> "
            ],
            "text/plain": [
              "<IPython.core.display.HTML object>"
            ]
          },
          "metadata": {
            "tags": []
          }
        },
        {
          "output_type": "stream",
          "text": [
            "Saving kaggle.json to kaggle.json\n"
          ],
          "name": "stdout"
        },
        {
          "output_type": "execute_result",
          "data": {
            "text/plain": [
              "{'kaggle.json': b'{\"username\":\"harsh998\",\"key\":\"7308348a594267440d62382be68ad071\"}'}"
            ]
          },
          "metadata": {
            "tags": []
          },
          "execution_count": 1
        }
      ]
    },
    {
      "metadata": {
        "id": "1XqQK709FzAf",
        "colab_type": "code",
        "colab": {}
      },
      "cell_type": "code",
      "source": [
        "!pip install -q kaggle\n",
        "!mkdir -p ~/.kaggle\n",
        "!cp kaggle.json ~/.kaggle/\n",
        "!chmod 600 ~/.kaggle/kaggle.json"
      ],
      "execution_count": 0,
      "outputs": []
    },
    {
      "metadata": {
        "id": "VXYJw947INId",
        "colab_type": "code",
        "outputId": "9199bb21-2d73-4dbb-e1cc-462d07c0c4ff",
        "colab": {
          "base_uri": "https://localhost:8080/",
          "height": 68
        }
      },
      "cell_type": "code",
      "source": [
        "!kaggle datasets download -d ashishvaya/recommendation-engine"
      ],
      "execution_count": 0,
      "outputs": [
        {
          "output_type": "stream",
          "text": [
            "Downloading recommendation-engine.zip to /content\n",
            "\r  0% 0.00/1.87M [00:00<?, ?B/s]\n",
            "\r100% 1.87M/1.87M [00:00<00:00, 60.7MB/s]\n"
          ],
          "name": "stdout"
        }
      ]
    },
    {
      "metadata": {
        "id": "v2LAPKLPJOE8",
        "colab_type": "code",
        "outputId": "f3d3779c-3e35-45a4-bb53-11c3a12ab851",
        "colab": {
          "base_uri": "https://localhost:8080/",
          "height": 34
        }
      },
      "cell_type": "code",
      "source": [
        "ls"
      ],
      "execution_count": 0,
      "outputs": [
        {
          "output_type": "stream",
          "text": [
            "kaggle.json  recommendation-engine.zip  \u001b[0m\u001b[01;34msample_data\u001b[0m/\n"
          ],
          "name": "stdout"
        }
      ]
    },
    {
      "metadata": {
        "id": "IK136lpkJRh7",
        "colab_type": "code",
        "outputId": "3372c50b-8b89-4c7e-c292-16d626b4f691",
        "colab": {
          "base_uri": "https://localhost:8080/",
          "height": 136
        }
      },
      "cell_type": "code",
      "source": [
        "!unzip recommendation-engine.zip"
      ],
      "execution_count": 0,
      "outputs": [
        {
          "output_type": "stream",
          "text": [
            "Archive:  recommendation-engine.zip\n",
            "  inflating: test_submissions_NeDLEvX.csv  \n",
            "  inflating: problem_data.csv        \n",
            "  inflating: train_submissions.csv   \n",
            "  inflating: user_data.csv           \n",
            "  inflating: sample_submissions_wbscxqU.csv  \n",
            "  inflating: submission.csv          \n"
          ],
          "name": "stdout"
        }
      ]
    },
    {
      "metadata": {
        "id": "hHx_-aVMJZp8",
        "colab_type": "code",
        "outputId": "75af531f-ed0a-4627-c00f-de0156771477",
        "colab": {
          "base_uri": "https://localhost:8080/",
          "height": 102
        }
      },
      "cell_type": "code",
      "source": [
        "ls"
      ],
      "execution_count": 0,
      "outputs": [
        {
          "output_type": "stream",
          "text": [
            "kaggle.json                     submission.csv\n",
            "problem_data.csv                test_submissions_NeDLEvX.csv\n",
            "recommendation-engine.zip       train_submissions.csv\n",
            "\u001b[0m\u001b[01;34msample_data\u001b[0m/                    user_data.csv\n",
            "sample_submissions_wbscxqU.csv\n"
          ],
          "name": "stdout"
        }
      ]
    },
    {
      "metadata": {
        "id": "nFPv2JcWJ5fs",
        "colab_type": "code",
        "colab": {}
      },
      "cell_type": "code",
      "source": [
        "import pandas as pd\n",
        "import numpy as np\n",
        "import matplotlib.pyplot as plot\n",
        "from matplotlib import rcParams\n",
        "rcParams['font.family'] = 'serif'\n",
        "from sklearn.cluster import KMeans\n",
        "from sklearn.preprocessing import StandardScaler\n",
        "from sklearn.ensemble import RandomForestClassifier\n",
        "from sklearn.model_selection import train_test_split\n",
        "from sklearn.metrics import confusion_matrix\n",
        "import seaborn as sns\n",
        "import xgboost as xgb\n",
        "from sklearn.metrics import accuracy_score\n",
        "from sklearn.metrics import mean_squared_error\n"
      ],
      "execution_count": 0,
      "outputs": []
    },
    {
      "metadata": {
        "id": "n8aN8M33Ntub",
        "colab_type": "code",
        "colab": {}
      },
      "cell_type": "code",
      "source": [
        "problems_df = pd.read_csv('problem_data.csv')\n",
        "users_df = pd.read_csv('user_data.csv')\n",
        "train_df = pd.read_csv('train_submissions.csv')\n",
        "test_df = pd.read_csv('test_submissions_NeDLEvX.csv')\n"
      ],
      "execution_count": 0,
      "outputs": []
    },
    {
      "metadata": {
        "id": "Oq0ohHHrOz0r",
        "colab_type": "code",
        "outputId": "89725623-2343-4d7b-c159-679a853164d8",
        "colab": {
          "base_uri": "https://localhost:8080/",
          "height": 102
        }
      },
      "cell_type": "code",
      "source": [
        "print(\"Training data count: \",len(train_df))\n",
        "print(\"No. of null values: \", train_df.isnull().sum())"
      ],
      "execution_count": 0,
      "outputs": [
        {
          "output_type": "stream",
          "text": [
            "Training data count:  155295\n",
            "No. of null values:  user_id           0\n",
            "problem_id        0\n",
            "attempts_range    0\n",
            "dtype: int64\n"
          ],
          "name": "stdout"
        }
      ]
    },
    {
      "metadata": {
        "id": "qgf7J_1YPNL6",
        "colab_type": "code",
        "outputId": "505a1b13-8ff9-40cf-ee5f-77820fa0914f",
        "colab": {
          "base_uri": "https://localhost:8080/",
          "height": 102
        }
      },
      "cell_type": "code",
      "source": [
        "print(\"Testing data count: \",len(test_df))\n",
        "print(\"No. of null values: \", test_df.isnull().sum())"
      ],
      "execution_count": 0,
      "outputs": [
        {
          "output_type": "stream",
          "text": [
            "Testing data count:  66555\n",
            "No. of null values:  ID            0\n",
            "user_id       0\n",
            "problem_id    0\n",
            "dtype: int64\n"
          ],
          "name": "stdout"
        }
      ]
    },
    {
      "metadata": {
        "id": "Dkp29IOmPqzZ",
        "colab_type": "code",
        "outputId": "c1d176a7-b50f-40c6-af1a-b254b453b7f2",
        "colab": {
          "base_uri": "https://localhost:8080/",
          "height": 119
        }
      },
      "cell_type": "code",
      "source": [
        "print(\"No. of problems: \",len(problems_df))\n",
        "print(\"No. of null values: \",problems_df.isnull().sum())"
      ],
      "execution_count": 0,
      "outputs": [
        {
          "output_type": "stream",
          "text": [
            "No. of problems:  6544\n",
            "No. of null values:  problem_id       0\n",
            "level_type     133\n",
            "points        3917\n",
            "tags          3484\n",
            "dtype: int64\n"
          ],
          "name": "stdout"
        }
      ]
    },
    {
      "metadata": {
        "id": "RxKG38akQrqK",
        "colab_type": "code",
        "outputId": "d3f823f2-87f2-4a76-ebeb-6290af562d9c",
        "colab": {
          "base_uri": "https://localhost:8080/",
          "height": 238
        }
      },
      "cell_type": "code",
      "source": [
        "print(\"No. of users: \",len(users_df))\n",
        "print(\"No. of null values: \",users_df.isnull().sum())"
      ],
      "execution_count": 0,
      "outputs": [
        {
          "output_type": "stream",
          "text": [
            "No. of users:  3571\n",
            "No. of null values:  user_id                         0\n",
            "submission_count                0\n",
            "problem_solved                  0\n",
            "contribution                    0\n",
            "country                      1153\n",
            "follower_count                  0\n",
            "last_online_time_seconds        0\n",
            "max_rating                      0\n",
            "rating                          0\n",
            "rank                            0\n",
            "registration_time_seconds       0\n",
            "dtype: int64\n"
          ],
          "name": "stdout"
        }
      ]
    },
    {
      "metadata": {
        "id": "Z91uAbfVQo9a",
        "colab_type": "code",
        "outputId": "e7da1138-982a-4b08-a42f-6e9a833bede7",
        "colab": {
          "base_uri": "https://localhost:8080/",
          "height": 799
        }
      },
      "cell_type": "code",
      "source": [
        "print(\"PROBLEMS_DATA.CSV\\n\",problems_df.head(),\"\\n\")\n",
        "print(\"USERS_DATA.CSV\\n\",users_df.head(),\"\\n\")\n",
        "print(\"TRAIN_SUBMISSIONS.CSV\\n\",train_df.head(),\"\\n\")\n",
        "print(\"TEST_SUBMISSIONS_NEDLEVX.CSV\\n\",test_df.head(),\"\\n\")"
      ],
      "execution_count": 0,
      "outputs": [
        {
          "output_type": "stream",
          "text": [
            "PROBLEMS_DATA.CSV\n",
            "   problem_id level_type  points                                 tags\n",
            "0  prob_3649          H     NaN                                  NaN\n",
            "1  prob_6191          A     NaN                                  NaN\n",
            "2  prob_2020          F     NaN                                  NaN\n",
            "3   prob_313          A   500.0                greedy,implementation\n",
            "4   prob_101          A   500.0  constructive algorithms,greedy,math \n",
            "\n",
            "USERS_DATA.CSV\n",
            "      user_id  submission_count  problem_solved  contribution  country  \\\n",
            "0  user_3311                47              40             0      NaN   \n",
            "1  user_3028                63              52             0    India   \n",
            "2  user_2268               226             203            -8    Egypt   \n",
            "3   user_480               611             490             1  Ukraine   \n",
            "4   user_650               504             479            12   Russia   \n",
            "\n",
            "   follower_count  last_online_time_seconds  max_rating   rating  \\\n",
            "0               4                1504111645     348.337  330.849   \n",
            "1              17                1498998165     405.677  339.450   \n",
            "2              24                1505566052     307.339  284.404   \n",
            "3              94                1505257499     525.803  471.330   \n",
            "4               4                1496613433     548.739  486.525   \n",
            "\n",
            "           rank  registration_time_seconds  \n",
            "0  intermediate                 1466686436  \n",
            "1  intermediate                 1441893325  \n",
            "2      beginner                 1454267603  \n",
            "3      advanced                 1350720417  \n",
            "4      advanced                 1395560498   \n",
            "\n",
            "TRAIN_SUBMISSIONS.CSV\n",
            "      user_id problem_id  attempts_range\n",
            "0   user_232  prob_6507               1\n",
            "1  user_3568  prob_2994               3\n",
            "2  user_1600  prob_5071               1\n",
            "3  user_2256   prob_703               1\n",
            "4  user_2321   prob_356               1 \n",
            "\n",
            "TEST_SUBMISSIONS_NEDLEVX.CSV\n",
            "                     ID    user_id problem_id\n",
            "0   user_856_prob_5822   user_856  prob_5822\n",
            "1  user_2642_prob_2334  user_2642  prob_2334\n",
            "2  user_2557_prob_2920  user_2557  prob_2920\n",
            "3  user_1572_prob_4598  user_1572  prob_4598\n",
            "4   user_295_prob_6139   user_295  prob_6139 \n",
            "\n"
          ],
          "name": "stdout"
        }
      ]
    },
    {
      "metadata": {
        "id": "KYqt3kvISARZ",
        "colab_type": "text"
      },
      "cell_type": "markdown",
      "source": [
        "#Merging the data"
      ]
    },
    {
      "metadata": {
        "id": "wDnOUYcdTGTZ",
        "colab_type": "code",
        "colab": {}
      },
      "cell_type": "code",
      "source": [
        "df = pd.merge(train_df,problems_df,on='problem_id', how='left')\n",
        "X = pd.merge(df,users_df,on='user_id',how= 'left')"
      ],
      "execution_count": 0,
      "outputs": []
    },
    {
      "metadata": {
        "id": "3U81h3fhf6YE",
        "colab_type": "code",
        "outputId": "553fdf24-9a21-40e6-f3d4-2c66e94e4494",
        "colab": {
          "base_uri": "https://localhost:8080/",
          "height": 136
        }
      },
      "cell_type": "code",
      "source": [
        "#Trianing data\n",
        "print(\"Training data: \",len(X))\n",
        "users = X['user_id'].unique()\n",
        "print(\"Users: \",len(users))\n",
        "problems = X['problem_id'].unique()\n",
        "print(\"Problems: \",len(problems))\n",
        "\n",
        "#Testing data\n",
        "print(\"\\nTesting data: \",len(X))\n",
        "users = test_df['user_id'].unique()\n",
        "print(\"Users: \",len(users))\n",
        "problems = test_df['problem_id'].unique()\n",
        "print(\"Problems: \",len(problems))\n"
      ],
      "execution_count": 0,
      "outputs": [
        {
          "output_type": "stream",
          "text": [
            "Training data:  155295\n",
            "Users:  3529\n",
            "Problems:  5776\n",
            "\n",
            "Testing data:  155295\n",
            "Users:  3501\n",
            "Problems:  4716\n"
          ],
          "name": "stdout"
        }
      ]
    },
    {
      "metadata": {
        "id": "gDR78NuPhCQj",
        "colab_type": "code",
        "outputId": "cf0ac3b4-b639-4f10-dd14-2d2ecc6cc288",
        "colab": {
          "base_uri": "https://localhost:8080/",
          "height": 241
        }
      },
      "cell_type": "code",
      "source": [
        "X.head()"
      ],
      "execution_count": 0,
      "outputs": [
        {
          "output_type": "execute_result",
          "data": {
            "text/html": [
              "<div>\n",
              "<style scoped>\n",
              "    .dataframe tbody tr th:only-of-type {\n",
              "        vertical-align: middle;\n",
              "    }\n",
              "\n",
              "    .dataframe tbody tr th {\n",
              "        vertical-align: top;\n",
              "    }\n",
              "\n",
              "    .dataframe thead th {\n",
              "        text-align: right;\n",
              "    }\n",
              "</style>\n",
              "<table border=\"1\" class=\"dataframe\">\n",
              "  <thead>\n",
              "    <tr style=\"text-align: right;\">\n",
              "      <th></th>\n",
              "      <th>user_id</th>\n",
              "      <th>problem_id</th>\n",
              "      <th>attempts_range</th>\n",
              "      <th>level_type</th>\n",
              "      <th>points</th>\n",
              "      <th>tags</th>\n",
              "      <th>submission_count</th>\n",
              "      <th>problem_solved</th>\n",
              "      <th>contribution</th>\n",
              "      <th>country</th>\n",
              "      <th>follower_count</th>\n",
              "      <th>last_online_time_seconds</th>\n",
              "      <th>max_rating</th>\n",
              "      <th>rating</th>\n",
              "      <th>rank</th>\n",
              "      <th>registration_time_seconds</th>\n",
              "    </tr>\n",
              "  </thead>\n",
              "  <tbody>\n",
              "    <tr>\n",
              "      <th>0</th>\n",
              "      <td>user_232</td>\n",
              "      <td>prob_6507</td>\n",
              "      <td>1</td>\n",
              "      <td>B</td>\n",
              "      <td>1000.0</td>\n",
              "      <td>strings</td>\n",
              "      <td>53</td>\n",
              "      <td>47</td>\n",
              "      <td>0</td>\n",
              "      <td>Bangladesh</td>\n",
              "      <td>1</td>\n",
              "      <td>1503633778</td>\n",
              "      <td>307.913</td>\n",
              "      <td>206.709</td>\n",
              "      <td>beginner</td>\n",
              "      <td>1432110935</td>\n",
              "    </tr>\n",
              "    <tr>\n",
              "      <th>1</th>\n",
              "      <td>user_3568</td>\n",
              "      <td>prob_2994</td>\n",
              "      <td>3</td>\n",
              "      <td>C</td>\n",
              "      <td>1500.0</td>\n",
              "      <td>brute force,dp</td>\n",
              "      <td>133</td>\n",
              "      <td>118</td>\n",
              "      <td>0</td>\n",
              "      <td>NaN</td>\n",
              "      <td>0</td>\n",
              "      <td>1502200122</td>\n",
              "      <td>324.255</td>\n",
              "      <td>235.378</td>\n",
              "      <td>beginner</td>\n",
              "      <td>1454664414</td>\n",
              "    </tr>\n",
              "    <tr>\n",
              "      <th>2</th>\n",
              "      <td>user_1600</td>\n",
              "      <td>prob_5071</td>\n",
              "      <td>1</td>\n",
              "      <td>A</td>\n",
              "      <td>500.0</td>\n",
              "      <td>implementation</td>\n",
              "      <td>50</td>\n",
              "      <td>44</td>\n",
              "      <td>0</td>\n",
              "      <td>NaN</td>\n",
              "      <td>7</td>\n",
              "      <td>1504719542</td>\n",
              "      <td>343.177</td>\n",
              "      <td>229.358</td>\n",
              "      <td>beginner</td>\n",
              "      <td>1473490873</td>\n",
              "    </tr>\n",
              "    <tr>\n",
              "      <th>3</th>\n",
              "      <td>user_2256</td>\n",
              "      <td>prob_703</td>\n",
              "      <td>1</td>\n",
              "      <td>A</td>\n",
              "      <td>500.0</td>\n",
              "      <td>brute force,implementation</td>\n",
              "      <td>271</td>\n",
              "      <td>233</td>\n",
              "      <td>23</td>\n",
              "      <td>Indonesia</td>\n",
              "      <td>40</td>\n",
              "      <td>1505175115</td>\n",
              "      <td>436.927</td>\n",
              "      <td>399.083</td>\n",
              "      <td>intermediate</td>\n",
              "      <td>1447736644</td>\n",
              "    </tr>\n",
              "    <tr>\n",
              "      <th>4</th>\n",
              "      <td>user_2321</td>\n",
              "      <td>prob_356</td>\n",
              "      <td>1</td>\n",
              "      <td>D</td>\n",
              "      <td>2000.0</td>\n",
              "      <td>dfs and similar,trees</td>\n",
              "      <td>155</td>\n",
              "      <td>135</td>\n",
              "      <td>0</td>\n",
              "      <td>India</td>\n",
              "      <td>80</td>\n",
              "      <td>1505421849</td>\n",
              "      <td>492.546</td>\n",
              "      <td>472.190</td>\n",
              "      <td>advanced</td>\n",
              "      <td>1437724657</td>\n",
              "    </tr>\n",
              "  </tbody>\n",
              "</table>\n",
              "</div>"
            ],
            "text/plain": [
              "     user_id problem_id  attempts_range level_type  points  \\\n",
              "0   user_232  prob_6507               1          B  1000.0   \n",
              "1  user_3568  prob_2994               3          C  1500.0   \n",
              "2  user_1600  prob_5071               1          A   500.0   \n",
              "3  user_2256   prob_703               1          A   500.0   \n",
              "4  user_2321   prob_356               1          D  2000.0   \n",
              "\n",
              "                         tags  submission_count  problem_solved  contribution  \\\n",
              "0                     strings                53              47             0   \n",
              "1              brute force,dp               133             118             0   \n",
              "2              implementation                50              44             0   \n",
              "3  brute force,implementation               271             233            23   \n",
              "4       dfs and similar,trees               155             135             0   \n",
              "\n",
              "      country  follower_count  last_online_time_seconds  max_rating   rating  \\\n",
              "0  Bangladesh               1                1503633778     307.913  206.709   \n",
              "1         NaN               0                1502200122     324.255  235.378   \n",
              "2         NaN               7                1504719542     343.177  229.358   \n",
              "3   Indonesia              40                1505175115     436.927  399.083   \n",
              "4       India              80                1505421849     492.546  472.190   \n",
              "\n",
              "           rank  registration_time_seconds  \n",
              "0      beginner                 1432110935  \n",
              "1      beginner                 1454664414  \n",
              "2      beginner                 1473490873  \n",
              "3  intermediate                 1447736644  \n",
              "4      advanced                 1437724657  "
            ]
          },
          "metadata": {
            "tags": []
          },
          "execution_count": 16
        }
      ]
    },
    {
      "metadata": {
        "id": "gPbJLSJBhoNT",
        "colab_type": "code",
        "outputId": "311e2719-b0bc-4f78-a5b0-2ca7443ce813",
        "colab": {
          "base_uri": "https://localhost:8080/",
          "height": 204
        }
      },
      "cell_type": "code",
      "source": [
        "train_df.head()"
      ],
      "execution_count": 0,
      "outputs": [
        {
          "output_type": "execute_result",
          "data": {
            "text/html": [
              "<div>\n",
              "<style scoped>\n",
              "    .dataframe tbody tr th:only-of-type {\n",
              "        vertical-align: middle;\n",
              "    }\n",
              "\n",
              "    .dataframe tbody tr th {\n",
              "        vertical-align: top;\n",
              "    }\n",
              "\n",
              "    .dataframe thead th {\n",
              "        text-align: right;\n",
              "    }\n",
              "</style>\n",
              "<table border=\"1\" class=\"dataframe\">\n",
              "  <thead>\n",
              "    <tr style=\"text-align: right;\">\n",
              "      <th></th>\n",
              "      <th>user_id</th>\n",
              "      <th>problem_id</th>\n",
              "      <th>attempts_range</th>\n",
              "    </tr>\n",
              "  </thead>\n",
              "  <tbody>\n",
              "    <tr>\n",
              "      <th>0</th>\n",
              "      <td>user_232</td>\n",
              "      <td>prob_6507</td>\n",
              "      <td>1</td>\n",
              "    </tr>\n",
              "    <tr>\n",
              "      <th>1</th>\n",
              "      <td>user_3568</td>\n",
              "      <td>prob_2994</td>\n",
              "      <td>3</td>\n",
              "    </tr>\n",
              "    <tr>\n",
              "      <th>2</th>\n",
              "      <td>user_1600</td>\n",
              "      <td>prob_5071</td>\n",
              "      <td>1</td>\n",
              "    </tr>\n",
              "    <tr>\n",
              "      <th>3</th>\n",
              "      <td>user_2256</td>\n",
              "      <td>prob_703</td>\n",
              "      <td>1</td>\n",
              "    </tr>\n",
              "    <tr>\n",
              "      <th>4</th>\n",
              "      <td>user_2321</td>\n",
              "      <td>prob_356</td>\n",
              "      <td>1</td>\n",
              "    </tr>\n",
              "  </tbody>\n",
              "</table>\n",
              "</div>"
            ],
            "text/plain": [
              "     user_id problem_id  attempts_range\n",
              "0   user_232  prob_6507               1\n",
              "1  user_3568  prob_2994               3\n",
              "2  user_1600  prob_5071               1\n",
              "3  user_2256   prob_703               1\n",
              "4  user_2321   prob_356               1"
            ]
          },
          "metadata": {
            "tags": []
          },
          "execution_count": 17
        }
      ]
    },
    {
      "metadata": {
        "id": "8xe_tFKchwDj",
        "colab_type": "code",
        "outputId": "51472d26-f08a-4709-efe0-2c482ed46881",
        "colab": {
          "base_uri": "https://localhost:8080/",
          "height": 241
        }
      },
      "cell_type": "code",
      "source": [
        "factor = pd.factorize(X['level_type'])\n",
        "X['diff_level'] = factor[0]\n",
        "\n",
        "factor = pd.factorize(X['rank'])\n",
        "X['rank'] = factor[0]\n",
        "factor = pd.factorize(users_df['rank'])\n",
        "users_df['rank'] = factor[0]\n",
        "\n",
        "X['user_id'] = X['user_id'].str.replace('user_','')\n",
        "X['problem_id'] = X['problem_id'].str.replace('prob_','')\n",
        "\n",
        "X['user_id'] = X['user_id'].astype('int64',copy = False)\n",
        "X['problem_id'] = X['problem_id'].astype('int64',copy = False)\n",
        "\n",
        "X.head()\n"
      ],
      "execution_count": 0,
      "outputs": [
        {
          "output_type": "execute_result",
          "data": {
            "text/html": [
              "<div>\n",
              "<style scoped>\n",
              "    .dataframe tbody tr th:only-of-type {\n",
              "        vertical-align: middle;\n",
              "    }\n",
              "\n",
              "    .dataframe tbody tr th {\n",
              "        vertical-align: top;\n",
              "    }\n",
              "\n",
              "    .dataframe thead th {\n",
              "        text-align: right;\n",
              "    }\n",
              "</style>\n",
              "<table border=\"1\" class=\"dataframe\">\n",
              "  <thead>\n",
              "    <tr style=\"text-align: right;\">\n",
              "      <th></th>\n",
              "      <th>user_id</th>\n",
              "      <th>problem_id</th>\n",
              "      <th>attempts_range</th>\n",
              "      <th>level_type</th>\n",
              "      <th>points</th>\n",
              "      <th>tags</th>\n",
              "      <th>submission_count</th>\n",
              "      <th>problem_solved</th>\n",
              "      <th>contribution</th>\n",
              "      <th>country</th>\n",
              "      <th>follower_count</th>\n",
              "      <th>last_online_time_seconds</th>\n",
              "      <th>max_rating</th>\n",
              "      <th>rating</th>\n",
              "      <th>rank</th>\n",
              "      <th>registration_time_seconds</th>\n",
              "      <th>diff_level</th>\n",
              "    </tr>\n",
              "  </thead>\n",
              "  <tbody>\n",
              "    <tr>\n",
              "      <th>0</th>\n",
              "      <td>232</td>\n",
              "      <td>6507</td>\n",
              "      <td>1</td>\n",
              "      <td>B</td>\n",
              "      <td>1000.0</td>\n",
              "      <td>strings</td>\n",
              "      <td>53</td>\n",
              "      <td>47</td>\n",
              "      <td>0</td>\n",
              "      <td>Bangladesh</td>\n",
              "      <td>1</td>\n",
              "      <td>1503633778</td>\n",
              "      <td>307.913</td>\n",
              "      <td>206.709</td>\n",
              "      <td>0</td>\n",
              "      <td>1432110935</td>\n",
              "      <td>0</td>\n",
              "    </tr>\n",
              "    <tr>\n",
              "      <th>1</th>\n",
              "      <td>3568</td>\n",
              "      <td>2994</td>\n",
              "      <td>3</td>\n",
              "      <td>C</td>\n",
              "      <td>1500.0</td>\n",
              "      <td>brute force,dp</td>\n",
              "      <td>133</td>\n",
              "      <td>118</td>\n",
              "      <td>0</td>\n",
              "      <td>NaN</td>\n",
              "      <td>0</td>\n",
              "      <td>1502200122</td>\n",
              "      <td>324.255</td>\n",
              "      <td>235.378</td>\n",
              "      <td>0</td>\n",
              "      <td>1454664414</td>\n",
              "      <td>1</td>\n",
              "    </tr>\n",
              "    <tr>\n",
              "      <th>2</th>\n",
              "      <td>1600</td>\n",
              "      <td>5071</td>\n",
              "      <td>1</td>\n",
              "      <td>A</td>\n",
              "      <td>500.0</td>\n",
              "      <td>implementation</td>\n",
              "      <td>50</td>\n",
              "      <td>44</td>\n",
              "      <td>0</td>\n",
              "      <td>NaN</td>\n",
              "      <td>7</td>\n",
              "      <td>1504719542</td>\n",
              "      <td>343.177</td>\n",
              "      <td>229.358</td>\n",
              "      <td>0</td>\n",
              "      <td>1473490873</td>\n",
              "      <td>2</td>\n",
              "    </tr>\n",
              "    <tr>\n",
              "      <th>3</th>\n",
              "      <td>2256</td>\n",
              "      <td>703</td>\n",
              "      <td>1</td>\n",
              "      <td>A</td>\n",
              "      <td>500.0</td>\n",
              "      <td>brute force,implementation</td>\n",
              "      <td>271</td>\n",
              "      <td>233</td>\n",
              "      <td>23</td>\n",
              "      <td>Indonesia</td>\n",
              "      <td>40</td>\n",
              "      <td>1505175115</td>\n",
              "      <td>436.927</td>\n",
              "      <td>399.083</td>\n",
              "      <td>1</td>\n",
              "      <td>1447736644</td>\n",
              "      <td>2</td>\n",
              "    </tr>\n",
              "    <tr>\n",
              "      <th>4</th>\n",
              "      <td>2321</td>\n",
              "      <td>356</td>\n",
              "      <td>1</td>\n",
              "      <td>D</td>\n",
              "      <td>2000.0</td>\n",
              "      <td>dfs and similar,trees</td>\n",
              "      <td>155</td>\n",
              "      <td>135</td>\n",
              "      <td>0</td>\n",
              "      <td>India</td>\n",
              "      <td>80</td>\n",
              "      <td>1505421849</td>\n",
              "      <td>492.546</td>\n",
              "      <td>472.190</td>\n",
              "      <td>2</td>\n",
              "      <td>1437724657</td>\n",
              "      <td>3</td>\n",
              "    </tr>\n",
              "  </tbody>\n",
              "</table>\n",
              "</div>"
            ],
            "text/plain": [
              "   user_id  problem_id  attempts_range level_type  points  \\\n",
              "0      232        6507               1          B  1000.0   \n",
              "1     3568        2994               3          C  1500.0   \n",
              "2     1600        5071               1          A   500.0   \n",
              "3     2256         703               1          A   500.0   \n",
              "4     2321         356               1          D  2000.0   \n",
              "\n",
              "                         tags  submission_count  problem_solved  contribution  \\\n",
              "0                     strings                53              47             0   \n",
              "1              brute force,dp               133             118             0   \n",
              "2              implementation                50              44             0   \n",
              "3  brute force,implementation               271             233            23   \n",
              "4       dfs and similar,trees               155             135             0   \n",
              "\n",
              "      country  follower_count  last_online_time_seconds  max_rating   rating  \\\n",
              "0  Bangladesh               1                1503633778     307.913  206.709   \n",
              "1         NaN               0                1502200122     324.255  235.378   \n",
              "2         NaN               7                1504719542     343.177  229.358   \n",
              "3   Indonesia              40                1505175115     436.927  399.083   \n",
              "4       India              80                1505421849     492.546  472.190   \n",
              "\n",
              "   rank  registration_time_seconds  diff_level  \n",
              "0     0                 1432110935           0  \n",
              "1     0                 1454664414           1  \n",
              "2     0                 1473490873           2  \n",
              "3     1                 1447736644           2  \n",
              "4     2                 1437724657           3  "
            ]
          },
          "metadata": {
            "tags": []
          },
          "execution_count": 18
        }
      ]
    },
    {
      "metadata": {
        "id": "Hvk4ef4QFPbQ",
        "colab_type": "code",
        "outputId": "aba9f198-9d2e-42a9-e198-2971ca50c133",
        "colab": {
          "base_uri": "https://localhost:8080/",
          "height": 317
        }
      },
      "cell_type": "code",
      "source": [
        "X.describe()"
      ],
      "execution_count": 0,
      "outputs": [
        {
          "output_type": "execute_result",
          "data": {
            "text/html": [
              "<div>\n",
              "<style scoped>\n",
              "    .dataframe tbody tr th:only-of-type {\n",
              "        vertical-align: middle;\n",
              "    }\n",
              "\n",
              "    .dataframe tbody tr th {\n",
              "        vertical-align: top;\n",
              "    }\n",
              "\n",
              "    .dataframe thead th {\n",
              "        text-align: right;\n",
              "    }\n",
              "</style>\n",
              "<table border=\"1\" class=\"dataframe\">\n",
              "  <thead>\n",
              "    <tr style=\"text-align: right;\">\n",
              "      <th></th>\n",
              "      <th>user_id</th>\n",
              "      <th>problem_id</th>\n",
              "      <th>attempts_range</th>\n",
              "      <th>points</th>\n",
              "      <th>submission_count</th>\n",
              "      <th>problem_solved</th>\n",
              "      <th>contribution</th>\n",
              "      <th>follower_count</th>\n",
              "      <th>last_online_time_seconds</th>\n",
              "      <th>max_rating</th>\n",
              "      <th>rating</th>\n",
              "      <th>rank</th>\n",
              "      <th>registration_time_seconds</th>\n",
              "      <th>diff_level</th>\n",
              "    </tr>\n",
              "  </thead>\n",
              "  <tbody>\n",
              "    <tr>\n",
              "      <th>count</th>\n",
              "      <td>155295.000000</td>\n",
              "      <td>155295.000000</td>\n",
              "      <td>155295.000000</td>\n",
              "      <td>126220.000000</td>\n",
              "      <td>155295.000000</td>\n",
              "      <td>155295.000000</td>\n",
              "      <td>155295.000000</td>\n",
              "      <td>155295.000000</td>\n",
              "      <td>1.552950e+05</td>\n",
              "      <td>155295.000000</td>\n",
              "      <td>155295.000000</td>\n",
              "      <td>155295.000000</td>\n",
              "      <td>1.552950e+05</td>\n",
              "      <td>155295.000000</td>\n",
              "    </tr>\n",
              "    <tr>\n",
              "      <th>mean</th>\n",
              "      <td>1778.145774</td>\n",
              "      <td>3236.588486</td>\n",
              "      <td>1.755028</td>\n",
              "      <td>993.302369</td>\n",
              "      <td>372.235680</td>\n",
              "      <td>336.078695</td>\n",
              "      <td>5.493718</td>\n",
              "      <td>61.064406</td>\n",
              "      <td>1.503666e+09</td>\n",
              "      <td>407.525560</td>\n",
              "      <td>368.623667</td>\n",
              "      <td>0.920352</td>\n",
              "      <td>1.427513e+09</td>\n",
              "      <td>1.792537</td>\n",
              "    </tr>\n",
              "    <tr>\n",
              "      <th>std</th>\n",
              "      <td>1026.136989</td>\n",
              "      <td>1918.921434</td>\n",
              "      <td>1.078450</td>\n",
              "      <td>568.115307</td>\n",
              "      <td>398.204943</td>\n",
              "      <td>377.378519</td>\n",
              "      <td>19.076626</td>\n",
              "      <td>258.997551</td>\n",
              "      <td>3.867762e+06</td>\n",
              "      <td>99.670629</td>\n",
              "      <td>112.046565</td>\n",
              "      <td>0.816435</td>\n",
              "      <td>5.033908e+07</td>\n",
              "      <td>1.879960</td>\n",
              "    </tr>\n",
              "    <tr>\n",
              "      <th>min</th>\n",
              "      <td>1.000000</td>\n",
              "      <td>1.000000</td>\n",
              "      <td>1.000000</td>\n",
              "      <td>-1.000000</td>\n",
              "      <td>1.000000</td>\n",
              "      <td>1.000000</td>\n",
              "      <td>-64.000000</td>\n",
              "      <td>0.000000</td>\n",
              "      <td>1.484239e+09</td>\n",
              "      <td>303.899000</td>\n",
              "      <td>0.000000</td>\n",
              "      <td>0.000000</td>\n",
              "      <td>1.264761e+09</td>\n",
              "      <td>-1.000000</td>\n",
              "    </tr>\n",
              "    <tr>\n",
              "      <th>25%</th>\n",
              "      <td>882.000000</td>\n",
              "      <td>1606.000000</td>\n",
              "      <td>1.000000</td>\n",
              "      <td>500.000000</td>\n",
              "      <td>118.000000</td>\n",
              "      <td>99.000000</td>\n",
              "      <td>0.000000</td>\n",
              "      <td>7.000000</td>\n",
              "      <td>1.504118e+09</td>\n",
              "      <td>323.394000</td>\n",
              "      <td>288.131000</td>\n",
              "      <td>0.000000</td>\n",
              "      <td>1.408458e+09</td>\n",
              "      <td>0.000000</td>\n",
              "    </tr>\n",
              "    <tr>\n",
              "      <th>50%</th>\n",
              "      <td>1780.000000</td>\n",
              "      <td>3334.000000</td>\n",
              "      <td>1.000000</td>\n",
              "      <td>1000.000000</td>\n",
              "      <td>237.000000</td>\n",
              "      <td>209.000000</td>\n",
              "      <td>0.000000</td>\n",
              "      <td>20.000000</td>\n",
              "      <td>1.505289e+09</td>\n",
              "      <td>383.028000</td>\n",
              "      <td>356.078000</td>\n",
              "      <td>1.000000</td>\n",
              "      <td>1.442762e+09</td>\n",
              "      <td>2.000000</td>\n",
              "    </tr>\n",
              "    <tr>\n",
              "      <th>75%</th>\n",
              "      <td>2659.000000</td>\n",
              "      <td>5008.000000</td>\n",
              "      <td>2.000000</td>\n",
              "      <td>1500.000000</td>\n",
              "      <td>480.000000</td>\n",
              "      <td>428.000000</td>\n",
              "      <td>1.000000</td>\n",
              "      <td>52.000000</td>\n",
              "      <td>1.505560e+09</td>\n",
              "      <td>468.463000</td>\n",
              "      <td>445.814000</td>\n",
              "      <td>1.000000</td>\n",
              "      <td>1.464692e+09</td>\n",
              "      <td>2.000000</td>\n",
              "    </tr>\n",
              "    <tr>\n",
              "      <th>max</th>\n",
              "      <td>3571.000000</td>\n",
              "      <td>6544.000000</td>\n",
              "      <td>6.000000</td>\n",
              "      <td>5000.000000</td>\n",
              "      <td>4570.000000</td>\n",
              "      <td>4476.000000</td>\n",
              "      <td>171.000000</td>\n",
              "      <td>10575.000000</td>\n",
              "      <td>1.505595e+09</td>\n",
              "      <td>983.085000</td>\n",
              "      <td>911.124000</td>\n",
              "      <td>3.000000</td>\n",
              "      <td>1.484236e+09</td>\n",
              "      <td>13.000000</td>\n",
              "    </tr>\n",
              "  </tbody>\n",
              "</table>\n",
              "</div>"
            ],
            "text/plain": [
              "             user_id     problem_id  attempts_range         points  \\\n",
              "count  155295.000000  155295.000000   155295.000000  126220.000000   \n",
              "mean     1778.145774    3236.588486        1.755028     993.302369   \n",
              "std      1026.136989    1918.921434        1.078450     568.115307   \n",
              "min         1.000000       1.000000        1.000000      -1.000000   \n",
              "25%       882.000000    1606.000000        1.000000     500.000000   \n",
              "50%      1780.000000    3334.000000        1.000000    1000.000000   \n",
              "75%      2659.000000    5008.000000        2.000000    1500.000000   \n",
              "max      3571.000000    6544.000000        6.000000    5000.000000   \n",
              "\n",
              "       submission_count  problem_solved   contribution  follower_count  \\\n",
              "count     155295.000000   155295.000000  155295.000000   155295.000000   \n",
              "mean         372.235680      336.078695       5.493718       61.064406   \n",
              "std          398.204943      377.378519      19.076626      258.997551   \n",
              "min            1.000000        1.000000     -64.000000        0.000000   \n",
              "25%          118.000000       99.000000       0.000000        7.000000   \n",
              "50%          237.000000      209.000000       0.000000       20.000000   \n",
              "75%          480.000000      428.000000       1.000000       52.000000   \n",
              "max         4570.000000     4476.000000     171.000000    10575.000000   \n",
              "\n",
              "       last_online_time_seconds     max_rating         rating           rank  \\\n",
              "count              1.552950e+05  155295.000000  155295.000000  155295.000000   \n",
              "mean               1.503666e+09     407.525560     368.623667       0.920352   \n",
              "std                3.867762e+06      99.670629     112.046565       0.816435   \n",
              "min                1.484239e+09     303.899000       0.000000       0.000000   \n",
              "25%                1.504118e+09     323.394000     288.131000       0.000000   \n",
              "50%                1.505289e+09     383.028000     356.078000       1.000000   \n",
              "75%                1.505560e+09     468.463000     445.814000       1.000000   \n",
              "max                1.505595e+09     983.085000     911.124000       3.000000   \n",
              "\n",
              "       registration_time_seconds     diff_level  \n",
              "count               1.552950e+05  155295.000000  \n",
              "mean                1.427513e+09       1.792537  \n",
              "std                 5.033908e+07       1.879960  \n",
              "min                 1.264761e+09      -1.000000  \n",
              "25%                 1.408458e+09       0.000000  \n",
              "50%                 1.442762e+09       2.000000  \n",
              "75%                 1.464692e+09       2.000000  \n",
              "max                 1.484236e+09      13.000000  "
            ]
          },
          "metadata": {
            "tags": []
          },
          "execution_count": 19
        }
      ]
    },
    {
      "metadata": {
        "id": "tRHjHdajH6fP",
        "colab_type": "code",
        "outputId": "e247341b-7852-4063-94da-3f200259684b",
        "colab": {
          "base_uri": "https://localhost:8080/",
          "height": 204
        }
      },
      "cell_type": "code",
      "source": [
        "# creating y vector\n",
        "\n",
        "y = pd.get_dummies(X['attempts_range'])\n",
        "\n",
        "y_xgb = X['attempts_range']\n",
        "\n",
        "X = X.drop(['points','attempts_range','follower_count','last_online_time_seconds','tags','level_type','country','registration_time_seconds'],axis = 1)\n",
        "X.head()"
      ],
      "execution_count": 0,
      "outputs": [
        {
          "output_type": "execute_result",
          "data": {
            "text/html": [
              "<div>\n",
              "<style scoped>\n",
              "    .dataframe tbody tr th:only-of-type {\n",
              "        vertical-align: middle;\n",
              "    }\n",
              "\n",
              "    .dataframe tbody tr th {\n",
              "        vertical-align: top;\n",
              "    }\n",
              "\n",
              "    .dataframe thead th {\n",
              "        text-align: right;\n",
              "    }\n",
              "</style>\n",
              "<table border=\"1\" class=\"dataframe\">\n",
              "  <thead>\n",
              "    <tr style=\"text-align: right;\">\n",
              "      <th></th>\n",
              "      <th>user_id</th>\n",
              "      <th>problem_id</th>\n",
              "      <th>submission_count</th>\n",
              "      <th>problem_solved</th>\n",
              "      <th>contribution</th>\n",
              "      <th>max_rating</th>\n",
              "      <th>rating</th>\n",
              "      <th>rank</th>\n",
              "      <th>diff_level</th>\n",
              "    </tr>\n",
              "  </thead>\n",
              "  <tbody>\n",
              "    <tr>\n",
              "      <th>0</th>\n",
              "      <td>232</td>\n",
              "      <td>6507</td>\n",
              "      <td>53</td>\n",
              "      <td>47</td>\n",
              "      <td>0</td>\n",
              "      <td>307.913</td>\n",
              "      <td>206.709</td>\n",
              "      <td>0</td>\n",
              "      <td>0</td>\n",
              "    </tr>\n",
              "    <tr>\n",
              "      <th>1</th>\n",
              "      <td>3568</td>\n",
              "      <td>2994</td>\n",
              "      <td>133</td>\n",
              "      <td>118</td>\n",
              "      <td>0</td>\n",
              "      <td>324.255</td>\n",
              "      <td>235.378</td>\n",
              "      <td>0</td>\n",
              "      <td>1</td>\n",
              "    </tr>\n",
              "    <tr>\n",
              "      <th>2</th>\n",
              "      <td>1600</td>\n",
              "      <td>5071</td>\n",
              "      <td>50</td>\n",
              "      <td>44</td>\n",
              "      <td>0</td>\n",
              "      <td>343.177</td>\n",
              "      <td>229.358</td>\n",
              "      <td>0</td>\n",
              "      <td>2</td>\n",
              "    </tr>\n",
              "    <tr>\n",
              "      <th>3</th>\n",
              "      <td>2256</td>\n",
              "      <td>703</td>\n",
              "      <td>271</td>\n",
              "      <td>233</td>\n",
              "      <td>23</td>\n",
              "      <td>436.927</td>\n",
              "      <td>399.083</td>\n",
              "      <td>1</td>\n",
              "      <td>2</td>\n",
              "    </tr>\n",
              "    <tr>\n",
              "      <th>4</th>\n",
              "      <td>2321</td>\n",
              "      <td>356</td>\n",
              "      <td>155</td>\n",
              "      <td>135</td>\n",
              "      <td>0</td>\n",
              "      <td>492.546</td>\n",
              "      <td>472.190</td>\n",
              "      <td>2</td>\n",
              "      <td>3</td>\n",
              "    </tr>\n",
              "  </tbody>\n",
              "</table>\n",
              "</div>"
            ],
            "text/plain": [
              "   user_id  problem_id  submission_count  problem_solved  contribution  \\\n",
              "0      232        6507                53              47             0   \n",
              "1     3568        2994               133             118             0   \n",
              "2     1600        5071                50              44             0   \n",
              "3     2256         703               271             233            23   \n",
              "4     2321         356               155             135             0   \n",
              "\n",
              "   max_rating   rating  rank  diff_level  \n",
              "0     307.913  206.709     0           0  \n",
              "1     324.255  235.378     0           1  \n",
              "2     343.177  229.358     0           2  \n",
              "3     436.927  399.083     1           2  \n",
              "4     492.546  472.190     2           3  "
            ]
          },
          "metadata": {
            "tags": []
          },
          "execution_count": 20
        }
      ]
    },
    {
      "metadata": {
        "id": "NlnLV1ROBYLC",
        "colab_type": "code",
        "outputId": "0ef0af0c-7b0d-4112-8015-f5ab1d25696f",
        "colab": {
          "base_uri": "https://localhost:8080/",
          "height": 363
        }
      },
      "cell_type": "code",
      "source": [
        "fig = problems_df['level_type'].value_counts().sort_index().plot(kind ='bar', stacked = True, title = \"Problem Difficulty Distribution\")\n",
        "fig.set_ylabel('Number of Questions')\n",
        "plot.show()"
      ],
      "execution_count": 0,
      "outputs": [
        {
          "output_type": "display_data",
          "data": {
            "image/png": "[encoded data removed]",
            "text/plain": [
              "<Figure size 576x396 with 1 Axes>"
            ]
          },
          "metadata": {
            "tags": []
          }
        }
      ]
    },
    {
      "metadata": {
        "id": "STgNnBnCFtb7",
        "colab_type": "text"
      },
      "cell_type": "markdown",
      "source": [
        "####We see that there are more problems which are in the first half of the problem difficulty than the  second half."
      ]
    },
    {
      "metadata": {
        "id": "Kw0iiW1DGDfh",
        "colab_type": "code",
        "outputId": "8cdbd677-fc02-4d66-cdef-732cbaa62411",
        "colab": {
          "base_uri": "https://localhost:8080/",
          "height": 722
        }
      },
      "cell_type": "code",
      "source": [
        "ax = sns.pairplot(users_df[[\"submission_count\",\"problem_solved\",\"rating\",\"rank\"]])"
      ],
      "execution_count": 0,
      "outputs": [
        {
          "output_type": "display_data",
          "data": {
            "image/png": "[encoded data removed]",
            "text/plain": [
              "<Figure size 720x720 with 20 Axes>"
            ]
          },
          "metadata": {
            "tags": []
          }
        }
      ]
    },
    {
      "metadata": {
        "id": "DLMGdYr-3GTw",
        "colab_type": "text"
      },
      "cell_type": "markdown",
      "source": [
        "####So what do the above pair plots tell us?\n",
        "\n",
        "**1. **Higher number of submissions were made by fewer number of users. \n",
        "\n",
        "**2.** Higher count of problems were solved by fewer number of users.\n",
        "\n",
        "**3.** The rating of users is uniformly spread, and most are with a rating somewhere in the middle.\n",
        "\n",
        "**4.** Majority users are at an intermediate and beginner level, with very few experts.\n",
        "\n",
        "**5.** Rating is not directly proportional to the number of problems solved or submissions - this means that difficulty level should have played a part."
      ]
    },
    {
      "metadata": {
        "id": "8Jr9ChjGDy9x",
        "colab_type": "code",
        "outputId": "24644d25-3c16-448f-b0dc-bf928aee3908",
        "colab": {
          "base_uri": "https://localhost:8080/",
          "height": 761
        }
      },
      "cell_type": "code",
      "source": [
        "var_Corr = X[[\"submission_count\", \"problem_solved\", \"rating\", \"rank\"]].corr()\n",
        "fig2 = plot.figure()\n",
        "fig2 = sns.heatmap(var_Corr, xticklabels=var_Corr.columns, yticklabels=var_Corr.columns,mask = False, annot= True)\n",
        "plot.show()"
      ],
      "execution_count": 0,
      "outputs": [
        {
          "output_type": "error",
          "ename": "ValueError",
          "evalue": "ignored",
          "traceback": [
            "\u001b[0;31m---------------------------------------------------------------------------\u001b[0m",
            "\u001b[0;31mValueError\u001b[0m                                Traceback (most recent call last)",
            "\u001b[0;32m<ipython-input-29-e206e08142a5>\u001b[0m in \u001b[0;36m<module>\u001b[0;34m()\u001b[0m\n\u001b[1;32m      1\u001b[0m \u001b[0mvar_Corr\u001b[0m \u001b[0;34m=\u001b[0m \u001b[0mX\u001b[0m\u001b[0;34m[\u001b[0m\u001b[0;34m[\u001b[0m\u001b[0;34m\"submission_count\"\u001b[0m\u001b[0;34m,\u001b[0m \u001b[0;34m\"problem_solved\"\u001b[0m\u001b[0;34m,\u001b[0m \u001b[0;34m\"rating\"\u001b[0m\u001b[0;34m,\u001b[0m \u001b[0;34m\"rank\"\u001b[0m\u001b[0;34m]\u001b[0m\u001b[0;34m]\u001b[0m\u001b[0;34m.\u001b[0m\u001b[0mcorr\u001b[0m\u001b[0;34m(\u001b[0m\u001b[0;34m)\u001b[0m\u001b[0;34m\u001b[0m\u001b[0;34m\u001b[0m\u001b[0m\n\u001b[1;32m      2\u001b[0m \u001b[0mfig2\u001b[0m \u001b[0;34m=\u001b[0m \u001b[0mplot\u001b[0m\u001b[0;34m.\u001b[0m\u001b[0mfigure\u001b[0m\u001b[0;34m(\u001b[0m\u001b[0;34m)\u001b[0m\u001b[0;34m\u001b[0m\u001b[0;34m\u001b[0m\u001b[0m\n\u001b[0;32m----> 3\u001b[0;31m \u001b[0mfig2\u001b[0m \u001b[0;34m=\u001b[0m \u001b[0msns\u001b[0m\u001b[0;34m.\u001b[0m\u001b[0mheatmap\u001b[0m\u001b[0;34m(\u001b[0m\u001b[0mvar_Corr\u001b[0m\u001b[0;34m,\u001b[0m \u001b[0mxticklabels\u001b[0m\u001b[0;34m=\u001b[0m\u001b[0mvar_Corr\u001b[0m\u001b[0;34m.\u001b[0m\u001b[0mcolumns\u001b[0m\u001b[0;34m,\u001b[0m \u001b[0myticklabels\u001b[0m\u001b[0;34m=\u001b[0m\u001b[0mvar_Corr\u001b[0m\u001b[0;34m.\u001b[0m\u001b[0mcolumns\u001b[0m\u001b[0;34m,\u001b[0m\u001b[0mmask\u001b[0m \u001b[0;34m=\u001b[0m \u001b[0;32mFalse\u001b[0m\u001b[0;34m,\u001b[0m \u001b[0mannot\u001b[0m\u001b[0;34m=\u001b[0m \u001b[0;32mTrue\u001b[0m\u001b[0;34m)\u001b[0m\u001b[0;34m\u001b[0m\u001b[0;34m\u001b[0m\u001b[0m\n\u001b[0m\u001b[1;32m      4\u001b[0m \u001b[0mplot\u001b[0m\u001b[0;34m.\u001b[0m\u001b[0mshow\u001b[0m\u001b[0;34m(\u001b[0m\u001b[0;34m)\u001b[0m\u001b[0;34m\u001b[0m\u001b[0;34m\u001b[0m\u001b[0m\n",
            "\u001b[0;32m/usr/local/lib/python3.6/dist-packages/seaborn/matrix.py\u001b[0m in \u001b[0;36mheatmap\u001b[0;34m(data, vmin, vmax, cmap, center, robust, annot, fmt, annot_kws, linewidths, linecolor, cbar, cbar_kws, cbar_ax, square, ax, xticklabels, yticklabels, mask, **kwargs)\u001b[0m\n\u001b[1;32m    483\u001b[0m     plotter = _HeatMapper(data, vmin, vmax, cmap, center, robust, annot, fmt,\n\u001b[1;32m    484\u001b[0m                           \u001b[0mannot_kws\u001b[0m\u001b[0;34m,\u001b[0m \u001b[0mcbar\u001b[0m\u001b[0;34m,\u001b[0m \u001b[0mcbar_kws\u001b[0m\u001b[0;34m,\u001b[0m \u001b[0mxticklabels\u001b[0m\u001b[0;34m,\u001b[0m\u001b[0;34m\u001b[0m\u001b[0;34m\u001b[0m\u001b[0m\n\u001b[0;32m--> 485\u001b[0;31m                           yticklabels, mask)\n\u001b[0m\u001b[1;32m    486\u001b[0m \u001b[0;34m\u001b[0m\u001b[0m\n\u001b[1;32m    487\u001b[0m     \u001b[0;31m# Add the pcolormesh kwargs here\u001b[0m\u001b[0;34m\u001b[0m\u001b[0;34m\u001b[0m\u001b[0;34m\u001b[0m\u001b[0m\n",
            "\u001b[0;32m/usr/local/lib/python3.6/dist-packages/seaborn/matrix.py\u001b[0m in \u001b[0;36m__init__\u001b[0;34m(self, data, vmin, vmax, cmap, center, robust, annot, fmt, annot_kws, cbar, cbar_kws, xticklabels, yticklabels, mask)\u001b[0m\n\u001b[1;32m    141\u001b[0m         \u001b[0mnx\u001b[0m\u001b[0;34m,\u001b[0m \u001b[0mny\u001b[0m \u001b[0;34m=\u001b[0m \u001b[0mdata\u001b[0m\u001b[0;34m.\u001b[0m\u001b[0mT\u001b[0m\u001b[0;34m.\u001b[0m\u001b[0mshape\u001b[0m\u001b[0;34m\u001b[0m\u001b[0;34m\u001b[0m\u001b[0m\n\u001b[1;32m    142\u001b[0m \u001b[0;34m\u001b[0m\u001b[0m\n\u001b[0;32m--> 143\u001b[0;31m         \u001b[0;32mif\u001b[0m \u001b[0mxticklabels\u001b[0m \u001b[0;34m==\u001b[0m \u001b[0;34m[\u001b[0m\u001b[0;34m]\u001b[0m\u001b[0;34m:\u001b[0m\u001b[0;34m\u001b[0m\u001b[0;34m\u001b[0m\u001b[0m\n\u001b[0m\u001b[1;32m    144\u001b[0m             \u001b[0mself\u001b[0m\u001b[0;34m.\u001b[0m\u001b[0mxticks\u001b[0m \u001b[0;34m=\u001b[0m \u001b[0;34m[\u001b[0m\u001b[0;34m]\u001b[0m\u001b[0;34m\u001b[0m\u001b[0;34m\u001b[0m\u001b[0m\n\u001b[1;32m    145\u001b[0m             \u001b[0mself\u001b[0m\u001b[0;34m.\u001b[0m\u001b[0mxticklabels\u001b[0m \u001b[0;34m=\u001b[0m \u001b[0;34m[\u001b[0m\u001b[0;34m]\u001b[0m\u001b[0;34m\u001b[0m\u001b[0;34m\u001b[0m\u001b[0m\n",
            "\u001b[0;32m/usr/local/lib/python3.6/dist-packages/pandas/core/indexes/base.py\u001b[0m in \u001b[0;36m_evaluate_compare\u001b[0;34m(self, other)\u001b[0m\n\u001b[1;32m   3841\u001b[0m                     \u001b[0;32mwith\u001b[0m \u001b[0mnp\u001b[0m\u001b[0;34m.\u001b[0m\u001b[0merrstate\u001b[0m\u001b[0;34m(\u001b[0m\u001b[0mall\u001b[0m\u001b[0;34m=\u001b[0m\u001b[0;34m'ignore'\u001b[0m\u001b[0;34m)\u001b[0m\u001b[0;34m:\u001b[0m\u001b[0;34m\u001b[0m\u001b[0;34m\u001b[0m\u001b[0m\n\u001b[1;32m   3842\u001b[0m                         result = _comp_method_OBJECT_ARRAY(\n\u001b[0;32m-> 3843\u001b[0;31m                             op, self.values, other)\n\u001b[0m\u001b[1;32m   3844\u001b[0m                 \u001b[0;32melse\u001b[0m\u001b[0;34m:\u001b[0m\u001b[0;34m\u001b[0m\u001b[0;34m\u001b[0m\u001b[0m\n\u001b[1;32m   3845\u001b[0m                     \u001b[0;32mwith\u001b[0m \u001b[0mnp\u001b[0m\u001b[0;34m.\u001b[0m\u001b[0merrstate\u001b[0m\u001b[0;34m(\u001b[0m\u001b[0mall\u001b[0m\u001b[0;34m=\u001b[0m\u001b[0;34m'ignore'\u001b[0m\u001b[0;34m)\u001b[0m\u001b[0;34m:\u001b[0m\u001b[0;34m\u001b[0m\u001b[0;34m\u001b[0m\u001b[0m\n",
            "\u001b[0;32m/usr/local/lib/python3.6/dist-packages/pandas/core/ops.py\u001b[0m in \u001b[0;36m_comp_method_OBJECT_ARRAY\u001b[0;34m(op, x, y)\u001b[0m\n\u001b[1;32m    759\u001b[0m             \u001b[0my\u001b[0m \u001b[0;34m=\u001b[0m \u001b[0my\u001b[0m\u001b[0;34m.\u001b[0m\u001b[0mvalues\u001b[0m\u001b[0;34m\u001b[0m\u001b[0;34m\u001b[0m\u001b[0m\n\u001b[1;32m    760\u001b[0m \u001b[0;34m\u001b[0m\u001b[0m\n\u001b[0;32m--> 761\u001b[0;31m         \u001b[0mresult\u001b[0m \u001b[0;34m=\u001b[0m \u001b[0mlib\u001b[0m\u001b[0;34m.\u001b[0m\u001b[0mvec_compare\u001b[0m\u001b[0;34m(\u001b[0m\u001b[0mx\u001b[0m\u001b[0;34m,\u001b[0m \u001b[0my\u001b[0m\u001b[0;34m,\u001b[0m \u001b[0mop\u001b[0m\u001b[0;34m)\u001b[0m\u001b[0;34m\u001b[0m\u001b[0;34m\u001b[0m\u001b[0m\n\u001b[0m\u001b[1;32m    762\u001b[0m     \u001b[0;32melse\u001b[0m\u001b[0;34m:\u001b[0m\u001b[0;34m\u001b[0m\u001b[0;34m\u001b[0m\u001b[0m\n\u001b[1;32m    763\u001b[0m         \u001b[0mresult\u001b[0m \u001b[0;34m=\u001b[0m \u001b[0mlib\u001b[0m\u001b[0;34m.\u001b[0m\u001b[0mscalar_compare\u001b[0m\u001b[0;34m(\u001b[0m\u001b[0mx\u001b[0m\u001b[0;34m,\u001b[0m \u001b[0my\u001b[0m\u001b[0;34m,\u001b[0m \u001b[0mop\u001b[0m\u001b[0;34m)\u001b[0m\u001b[0;34m\u001b[0m\u001b[0;34m\u001b[0m\u001b[0m\n",
            "\u001b[0;32mpandas/_libs/lib.pyx\u001b[0m in \u001b[0;36mpandas._libs.lib.vec_compare\u001b[0;34m()\u001b[0m\n",
            "\u001b[0;31mValueError\u001b[0m: Arrays were different lengths: 4 vs 0"
          ]
        },
        {
          "output_type": "display_data",
          "data": {
            "text/plain": [
              "<Figure size 576x396 with 0 Axes>"
            ]
          },
          "metadata": {
            "tags": []
          }
        }
      ]
    },
    {
      "metadata": {
        "id": "wzHvUmAH48km",
        "colab_type": "code",
        "colab": {}
      },
      "cell_type": "code",
      "source": [
        ""
      ],
      "execution_count": 0,
      "outputs": []
    }
  ]
}